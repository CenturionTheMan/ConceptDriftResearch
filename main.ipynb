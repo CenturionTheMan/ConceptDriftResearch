{
 "cells": [
  {
   "cell_type": "code",
   "execution_count": null,
   "id": "d84430f0",
   "metadata": {},
   "outputs": [],
   "source": [
    "import pandas as pd\n",
    "import numpy as np\n",
    "import tabulate as tb\n",
    "from typing import Dict\n",
    "\n",
    "\n",
    "SEED = 42\n",
    "np.random.seed(SEED)"
   ]
  },
  {
   "cell_type": "code",
   "execution_count": 83,
   "id": "cf0abeb5",
   "metadata": {},
   "outputs": [
    {
     "name": "stdout",
     "output_type": "stream",
     "text": [
      "+------+-------+-------+-----------------------------------------------------------+\n",
      "|      | dx    | sex   | file_path                                                 |\n",
      "|------+-------+-------+-----------------------------------------------------------|\n",
      "| 2462 | bcc   | male  | Skin Cancer MNIST/HAM10000_images_part_1/ISIC_0028155.jpg |\n",
      "| 2982 | nv    | male  | Skin Cancer MNIST/HAM10000_images_part_1/ISIC_0031325.jpg |\n",
      "|    0 | bkl   | male  | Skin Cancer MNIST/HAM10000_images_part_1/ISIC_0027419.jpg |\n",
      "| 9689 | akiec | male  | Skin Cancer MNIST/HAM10000_images_part_1/ISIC_0029360.jpg |\n",
      "| 1213 | mel   | male  | Skin Cancer MNIST/HAM10000_images_part_1/ISIC_0027190.jpg |\n",
      "| 2321 | vasc  | male  | Skin Cancer MNIST/HAM10000_images_part_1/ISIC_0031270.jpg |\n",
      "|   64 | nv    | male  | Skin Cancer MNIST/HAM10000_images_part_1/ISIC_0024698.jpg |\n",
      "|    1 | bkl   | male  | Skin Cancer MNIST/HAM10000_images_part_1/ISIC_0025030.jpg |\n",
      "| 9690 | akiec | male  | Skin Cancer MNIST/HAM10000_images_part_1/ISIC_0026152.jpg |\n",
      "| 1096 | df    | male  | Skin Cancer MNIST/HAM10000_images_part_1/ISIC_0028790.jpg |\n",
      "| 2320 | vasc  | male  | Skin Cancer MNIST/HAM10000_images_part_1/ISIC_0031197.jpg |\n",
      "| 2464 | bcc   | male  | Skin Cancer MNIST/HAM10000_images_part_1/ISIC_0029230.jpg |\n",
      "| 1095 | df    | male  | Skin Cancer MNIST/HAM10000_images_part_1/ISIC_0027008.jpg |\n",
      "| 1214 | mel   | male  | Skin Cancer MNIST/HAM10000_images_part_1/ISIC_0031023.jpg |\n",
      "+------+-------+-------+-----------------------------------------------------------+\n"
     ]
    }
   ],
   "source": [
    "# file_path = './DeepFake Annotations/A-FF++.csv'\n",
    "file_path = './Skin Cancer MNIST/HAM10000_metadata.csv'\n",
    "df = pd.read_csv(file_path, sep=',')\n",
    "df['file_path'] = 'Skin Cancer MNIST/HAM10000_images_part_1/' + df['image_id'] + '.jpg'\n",
    "\n",
    "df = df.drop(columns=['image_id', 'lesion_id', 'dx_type', 'age', 'localization'])\n",
    "\n",
    "def get_balanced_subset(df, class_col, feature_col, feature_value, samples_per_class, randomize=True, reset_index=False):\n",
    "    tmp = df[df[feature_col] == feature_value]\n",
    "    \n",
    "    unique_classes = tmp[class_col].unique()\n",
    "    for cl in unique_classes:\n",
    "        amt = len(tmp[tmp[class_col] == cl])\n",
    "        if amt < samples_per_class:\n",
    "            raise ValueError(f\"Not enough samples for class '{cl}' in feature '{feature_value}'. \"\n",
    "                             f\"Required: {samples_per_class}, Available: {len(tmp[tmp[class_col] == cl])}\")\n",
    "   \n",
    "    tmp = tmp.groupby(class_col).head(samples_per_class)\n",
    "    if randomize:\n",
    "        tmp = tmp.sample(len(tmp), random_state=SEED)\n",
    "    if reset_index:\n",
    "        tmp = tmp.reset_index(drop=True)\n",
    "    \n",
    "    return tmp    \n",
    "\n",
    "tmp = get_balanced_subset(df=df, class_col='dx', feature_col='sex', feature_value='male', samples_per_class=2)\n",
    "print(tb.tabulate(tmp, headers='keys', tablefmt='psql'))"
   ]
  },
  {
   "cell_type": "code",
   "execution_count": 84,
   "id": "7f991920",
   "metadata": {},
   "outputs": [],
   "source": [
    "def get_exp_data(df, class_col, feature_col, ratio : Dict, size, randomize=True, exclude_column=None, exclude_df=None):\n",
    "    if randomize:\n",
    "        df_rnd = df.sample(frac=1, random_state=SEED).reset_index(drop=True)\n",
    "    else:\n",
    "        df_rnd = df.copy()\n",
    "        \n",
    "    if exclude_column is not None and exclude_df is not None:\n",
    "        if exclude_column not in df_rnd.columns:\n",
    "            raise ValueError(f\"Column '{exclude_column}' not found in DataFrame.\")\n",
    "        if exclude_column not in exclude_df.columns:\n",
    "            raise ValueError(f\"Column '{exclude_column}' not found in exclude DataFrame.\")\n",
    "        df_rnd = df_rnd[~df_rnd[exclude_column].isin(exclude_df[exclude_column])]\n",
    "        \n",
    "    uniq_classes = df_rnd[class_col].unique()\n",
    "    uniq_features = df_rnd[feature_col].unique()\n",
    "    \n",
    "    def get_exp_data_inner(tmp_df, size):\n",
    "        df_tmp = None\n",
    "        for uf in uniq_features:\n",
    "            if ratio.get(uf) is None:\n",
    "                print(f\"Feature '{uf}' not found in ratios. Skipping.\")\n",
    "                continue            \n",
    "            c_amt = int(size * ratio[uf] / len(uniq_classes))\n",
    "            if c_amt <= 0:\n",
    "                raise ValueError(f\"Calculated samples per class ({c_amt}) is less than or equal to zero for feature '{uf}' with ratio {ratio}.\")\n",
    "            tmp = get_balanced_subset(df=tmp_df, class_col=class_col, feature_col=feature_col, feature_value=uf, \n",
    "                                        samples_per_class=c_amt, randomize=False)\n",
    "            if df_tmp is None:\n",
    "                df_tmp = tmp\n",
    "            else:\n",
    "                df_tmp = pd.concat([df_tmp, tmp])\n",
    "        return df_tmp\n",
    "            \n",
    "    df_res = get_exp_data_inner(df_rnd, size)\n",
    "    \n",
    "    if len(df_res) < size:\n",
    "        print(f\"Samples for ({len(df_res)}) are less than requested ({size}).\")\n",
    "    \n",
    "    #PRINT RATIOS\n",
    "    ratios = df_res[feature_col].value_counts(normalize=True).to_dict()\n",
    "    print(f\"Ratios for features: {ratios}\")\n",
    "    \n",
    "    df_res = df_res.reset_index(drop=True)\n",
    "    \n",
    "    return df_res      "
   ]
  },
  {
   "cell_type": "code",
   "execution_count": 85,
   "id": "737ae7a6",
   "metadata": {},
   "outputs": [
    {
     "name": "stdout",
     "output_type": "stream",
     "text": [
      "Feature 'unknown' not found in ratios. Skipping.\n",
      "Samples for (490) are less than requested (500).\n",
      "Ratios for features: {'male': 0.5, 'female': 0.5}\n",
      "Feature 'unknown' not found in ratios. Skipping.\n",
      "Samples for (98) are less than requested (100).\n",
      "Ratios for features: {'male': 0.5, 'female': 0.5}\n",
      "Feature 'unknown' not found in ratios. Skipping.\n",
      "Samples for (91) are less than requested (100).\n",
      "Ratios for features: {'female': 0.6153846153846154, 'male': 0.38461538461538464}\n",
      "Feature 'unknown' not found in ratios. Skipping.\n",
      "Samples for (98) are less than requested (100).\n",
      "Ratios for features: {'female': 0.7142857142857143, 'male': 0.2857142857142857}\n"
     ]
    }
   ],
   "source": [
    "train_50_50 = get_exp_data(df, class_col='dx', feature_col='sex', ratio={'male':0.5, 'female': 0.5}, size=500)\n",
    "# print(tb.tabulate(train_50_50, headers='keys', tablefmt='psql'))\n",
    "\n",
    "test_50_50 = get_exp_data(df, class_col='dx', feature_col='sex', ratio={'male':0.5, 'female': 0.5}, size=100, exclude_column='file_path', exclude_df=train_50_50)\n",
    "test_40_60 = get_exp_data(df, class_col='dx', feature_col='sex', ratio={'male':0.4, 'female': 0.6}, size=100, exclude_column='file_path', exclude_df=train_50_50)\n",
    "test_30_70 = get_exp_data(df, class_col='dx', feature_col='sex', ratio={'male':0.3, 'female': 0.7}, size=100, exclude_column='file_path', exclude_df=train_50_50)"
   ]
  }
 ],
 "metadata": {
  "kernelspec": {
   "display_name": ".venv",
   "language": "python",
   "name": "python3"
  },
  "language_info": {
   "codemirror_mode": {
    "name": "ipython",
    "version": 3
   },
   "file_extension": ".py",
   "mimetype": "text/x-python",
   "name": "python",
   "nbconvert_exporter": "python",
   "pygments_lexer": "ipython3",
   "version": "3.12.10"
  }
 },
 "nbformat": 4,
 "nbformat_minor": 5
}
